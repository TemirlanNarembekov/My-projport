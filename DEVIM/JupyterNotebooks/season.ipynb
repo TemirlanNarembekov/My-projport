{
 "cells": [
  {
   "cell_type": "code",
   "execution_count": null,
   "metadata": {},
   "outputs": [],
   "source": [
    "import numpy as np\n",
    "import matplotlib.pyplot as plt\n",
    "from scipy.fftpack import fft\n",
    "from dailygraph import daily_overdues \n",
    "from statsmodels.tsa.seasonal import seasonal_decompose\n",
    "import pandas as pd\n",
    "from statsmodels.tsa.api import STL\n",
    "from statsmodels.graphics.tsaplots import plot_acf\n",
    "from pandas.plotting import lag_plot\n",
    "\n",
    "decomposition = seasonal_decompose(daily_overdues, model='additive', period=30)#365\n",
    "decomposition.plot()\n",
    "# plt.show()\n",
    "\n",
    "\n",
    "def seasonal_strength(series: pd.Series) -> float:\n",
    "    # time series decomposition\n",
    "    series_decomp = STL(series, period=30).fit()\n",
    "    \n",
    "    # variance of residuals + seasonality\n",
    "    resid_seas_var = (series_decomp.resid + series_decomp.seasonal).var()\n",
    "    # variance of residuals\n",
    "    resid_var = series_decomp.resid.var()\n",
    "\n",
    "    # seasonal strength\n",
    "    result = 1 - (resid_var / resid_seas_var)\n",
    "\n",
    "    return result\n",
    "\n",
    "ans = seasonal_strength(daily_overdues)\n",
    "print(ans)\n",
    "\n",
    "series = daily_overdues\n",
    "\n",
    "# Лаговый график для проверки сезонности с лагом 6 месяцев\n",
    "plt.figure(figsize=(5, 5))\n",
    "lag_plot(series, lag=30)\n",
    "plt.title(\"Лаговый график (lag=6)\")\n",
    "plt.show()\n"
   ]
  }
 ],
 "metadata": {
  "language_info": {
   "name": "python"
  }
 },
 "nbformat": 4,
 "nbformat_minor": 2
}
