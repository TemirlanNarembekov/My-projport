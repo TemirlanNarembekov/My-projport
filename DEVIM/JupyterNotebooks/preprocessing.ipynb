{
 "cells": [
  {
   "cell_type": "code",
   "execution_count": null,
   "metadata": {},
   "outputs": [],
   "source": [
    "import numpy as np\n",
    "import pandas as pd\n",
    "import matplotlib.pyplot as plt\n",
    "\n",
    "\n",
    "\n",
    "base = 'C:\\\\Users\\\\user\\\\Desktop\\\\TEST-CHALLENGES\\\\DEVIM\\\\task_2_data\\\\'\n",
    "orders = pd.read_csv(base + 'orders.csv')\n",
    "payments = pd.read_csv(base + 'payments.csv')\n",
    "plan = pd.read_csv(base + 'plan.csv')\n",
    "\n",
    "# Преобразуем строки в datetime\n",
    "payments[\"paid_at\"] = pd.to_datetime(payments[\"paid_at\"]).dt.date\n",
    "plan[\"plan_at\"] = pd.to_datetime(plan[\"plan_at\"]).dt.date\n",
    "# Функция для вычисления `late`\n",
    "def check_late(row, payments):\n",
    "    order_id = row[\"order_id\"]\n",
    "    plan_at = row[\"plan_at\"]\n",
    "    plan_sum_total = row[\"plan_sum_total\"]\n",
    "    # Все платежи по заказу\n",
    "    order_payments = payments[payments[\"order_id\"] == order_id].copy()\n",
    "    # Добавляем столбец \"учтен\" (сначала все платежи не учтены)\n",
    "    order_payments[\"used\"] = False\n",
    "    # Найти все платежи **до текущей даты plan_at**, но не только в этом периоде\n",
    "    relevant_payments = order_payments[order_payments[\"paid_at\"] <= plan_at]\n",
    "    # Если платежей вообще нет, значит 100% просрочка\n",
    "    if relevant_payments.empty:\n",
    "        return 1\n",
    "    # Считаем баланс с учетом ранних платежей\n",
    "    total_paid = 0\n",
    "    for index, payment in relevant_payments.iterrows():\n",
    "        if total_paid >= plan_sum_total:\n",
    "            break  # Если уже оплатили нужную сумму — выходим\n",
    "        total_paid += payment[\"paid_sum\"]\n",
    "        order_payments.at[index, \"used\"] = True  # Отмечаем платеж как учтенный\n",
    "    # Проверяем, хватило ли денег\n",
    "    if total_paid >= plan_sum_total:\n",
    "        return 0  # Нет просрочки\n",
    "    # Если денег не хватило, проверяем, есть ли платежи **после plan_at** (опоздавшие)\n",
    "    late_payments = order_payments[~order_payments[\"used\"] & (order_payments[\"paid_at\"] > plan_at)]\n",
    "    if not late_payments.empty:\n",
    "        return 1  # Просрочка, так как часть денег пришла поздно\n",
    "    return 1  # Просрочка (недостаточно денег)\n",
    "# Рассчитываем `late` для первых 10 строк в `plan`\n",
    "plan_subset = plan.head(10).copy()  # Берем первые 10 строк\n",
    "plan[\"late\"] = plan.apply(lambda row: check_late(row, payments), axis=1)\n",
    "plan.to_csv(\"C:\\\\Users\\\\user\\\\Desktop\\\\TEST-CHALLENGES\\\\DEVIM\\\\task_2_data\\\\new_plan2.csv\", index=False)\n",
    "\n"
   ]
  }
 ],
 "metadata": {
  "language_info": {
   "name": "python"
  }
 },
 "nbformat": 4,
 "nbformat_minor": 2
}
