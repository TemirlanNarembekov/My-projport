{
 "cells": [
  {
   "cell_type": "code",
   "execution_count": null,
   "metadata": {},
   "outputs": [],
   "source": [
    "from pymannkendall import original_test\n",
    "from collections import Counter\n",
    "import numpy as np\n",
    "import pandas as pd\n",
    "import matplotlib.pyplot as plt\n",
    "import seaborn as sns\n",
    "from datetime import datetime\n",
    "import statsmodels.sandbox.stats.runs as runs\n",
    "from dailygraph import daily_overdues,daily_late_sum,plan\n",
    "\n",
    "\n",
    "daily_payment_count = plan.groupby(\"plan_at\").size().reset_index(name=\"count\")\n",
    "counts = daily_payment_count[\"count\"].tolist()  # Количество платежей\n",
    "daily_stats = daily_late_sum.merge(daily_payment_count, on=\"plan_at\")\n",
    "daily_stats[\"overdue_ratio\"] = daily_stats[\"late\"] / daily_stats[\"count\"]\n",
    "\n",
    "counts = daily_payment_count[\"count\"].tolist()  # Количество платежей\n",
    "indices = list(range(1, len(daily_stats) + 1))\n",
    "\n",
    "# Построение графика\n",
    "plt.figure(figsize=(10, 5))\n",
    "plt.plot(indices, daily_stats[\"overdue_ratio\"], marker='o', linestyle='-', color='b', label='Daily Payments')\n",
    "plt.xlabel(\"Дни\")\n",
    "plt.ylabel(\"Доля просрочек в день\")\n",
    "plt.title(\"Ежедневное доля просрочек\")\n",
    "plt.xticks(rotation=45)  # Поворачиваем подписи оси X для читаемости\n",
    "plt.legend()\n",
    "plt.grid()\n",
    "plt.show()\n",
    "\n",
    "result = original_test(daily_stats[\"overdue_ratio\"])\n",
    "print(result)"
   ]
  }
 ],
 "metadata": {
  "language_info": {
   "name": "python"
  }
 },
 "nbformat": 4,
 "nbformat_minor": 2
}
