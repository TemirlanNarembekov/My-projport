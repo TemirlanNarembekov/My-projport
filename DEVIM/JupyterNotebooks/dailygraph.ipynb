{
 "cells": [
  {
   "cell_type": "code",
   "execution_count": null,
   "metadata": {},
   "outputs": [],
   "source": [
    "from collections import Counter\n",
    "import numpy as np\n",
    "import pandas as pd\n",
    "import matplotlib.pyplot as plt\n",
    "import seaborn as sns\n",
    "from datetime import datetime\n",
    "import statsmodels.sandbox.stats.runs as runs\n",
    "\n",
    "\n",
    "path = 'C:\\\\Users\\\\user\\\\Desktop\\\\TEST-CHALLENGES\\\\DEVIM\\\\task_2_data\\\\new_plan2.csv'\n",
    "plan = pd.read_csv(path)\n",
    "\n",
    "daily_late_sum = plan.groupby(\"plan_at\")[\"late\"].sum().reset_index()\n",
    "daily_overdues = daily_late_sum['late']\n",
    "daily_payment_count = plan.groupby(\"plan_at\").size().reset_index(name=\"count\")\n",
    "counts = daily_payment_count[\"count\"].tolist()  # Количество платежей\n",
    "daily_stats = daily_late_sum.merge(daily_payment_count, on=\"plan_at\")\n",
    "daily_stats[\"overdue_ratio\"] = daily_stats[\"late\"] / daily_stats[\"count\"]\n",
    "\n",
    "counts = daily_payment_count[\"count\"].tolist()  # Количество платежей\n",
    "indices = list(range(1, len(daily_stats) + 1))\n",
    "\n",
    "# Построение графика\n",
    "plt.figure(figsize=(10, 5))\n",
    "plt.plot(indices, daily_stats[\"overdue_ratio\"], marker='o', linestyle='-', color='b', label='Daily Payments')\n",
    "plt.xlabel(\"Дни\")\n",
    "plt.ylabel(\"Доля просрочек в день\")\n",
    "plt.title(\"Ежедневное доля просрочек\")\n",
    "plt.xticks(rotation=45)  # Поворачиваем подписи оси X для читаемости\n",
    "plt.legend()\n",
    "plt.grid()\n",
    "plt.show()\n",
    "\n",
    "\n",
    "\n",
    "\n"
   ]
  }
 ],
 "metadata": {
  "language_info": {
   "name": "python"
  }
 },
 "nbformat": 4,
 "nbformat_minor": 2
}
