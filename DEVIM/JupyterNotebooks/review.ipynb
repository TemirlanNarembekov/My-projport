{
 "cells": [
  {
   "cell_type": "code",
   "execution_count": null,
   "metadata": {},
   "outputs": [],
   "source": [
    "from collections import Counter\n",
    "import numpy as np\n",
    "import pandas as pd\n",
    "import matplotlib.pyplot as plt\n",
    "import seaborn as sns\n",
    "from datetime import datetime\n",
    "path = 'C:\\\\Users\\\\user\\\\Desktop\\\\TEST-CHALLENGES\\\\DEVIM\\\\task_2_data\\\\new_plan2.csv'\n",
    "plan = pd.read_csv(path)\n",
    "\n",
    "dates = Counter(plan['plan_at'])\n",
    "\n",
    "daily_late_sum = plan.groupby(\"plan_at\")[\"late\"].sum().reset_index()\n",
    "\n",
    "\n",
    "daily_overdues = daily_late_sum['late']\n",
    "\n",
    "indices = list(range(1, len(daily_overdues) + 1))\n",
    "\n",
    "# Создание графика\n",
    "plt.figure(figsize=(10, 6))\n",
    "plt.plot(indices, daily_overdues, marker='o', linestyle='-', color='b', label='daily_overdues')\n",
    "\n",
    "# Добавление заголовков и подписей\n",
    "plt.title('Количество просрочек на временной шкале', fontsize=14)\n",
    "plt.xlabel('Дни', fontsize=12)  # Или \"Месяцы\", если это месячные данные\n",
    "plt.ylabel('Количество просрочек', fontsize=12)\n",
    "plt.grid(True)\n",
    "plt.legend()\n",
    "\n",
    "# Отображение графика\n",
    "# plt.tight_layout()\n",
    "# plt.show()\n",
    "\n"
   ]
  }
 ],
 "metadata": {
  "language_info": {
   "name": "python"
  }
 },
 "nbformat": 4,
 "nbformat_minor": 2
}
