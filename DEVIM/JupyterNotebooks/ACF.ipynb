{
 "cells": [
  {
   "cell_type": "code",
   "execution_count": null,
   "metadata": {},
   "outputs": [],
   "source": [
    "import gspread\n",
    "from oauth2client.service_account import ServiceAccountCredentials\n",
    "from dailygraph import daily_overdues\n",
    "import time\n",
    "from monthlygraph import monthly_stats\n",
    "\n",
    "# Настройка доступа\n",
    "scope = [\"https://spreadsheets.google.com/feeds\", \"https://www.googleapis.com/auth/drive\"]\n",
    "creds = ServiceAccountCredentials.from_json_keyfile_name(\"C:/Users/user/Desktop/КУРСОВАЯ/studious-karma-450113-s5-66bb1d03297d.json\", scope)\n",
    "client = gspread.authorize(creds)\n",
    "\n",
    "# Открытие таблицы по ее ID\n",
    "spreadsheet_id = '1DTDnuggglDMy6wF0NhHLlgxOmg1jmPM9ObqpUPPjg8Q'\n",
    "spreadsheet = client.open_by_key(spreadsheet_id)\n",
    "\n",
    "# Выбор листа по названию\n",
    "worksheet = spreadsheet.worksheet('Лист2')\n",
    "cell_range = f'B1:B{len(monthly_stats[\"overdue_ratio\"])}'\n",
    "worksheet.update(cell_range, [[val] for val in monthly_stats[\"overdue_ratio\"]])\n",
    "print(\"Данные успешно загружены в столбец B!\")\n",
    "# Ваш список данных\n",
    "data_list = monthly_stats[\"overdue_ratio\"]  # и т.д.\n",
    "\n",
    "\n",
    "# Формирование списка формул для всего столбца C\n",
    "for i in range(1, len(data_list)+1):\n",
    "    formula = f'=КОРРЕЛ(B$1:ДВССЫЛ(АДРЕС(СЧЁТЗ(B{i}:B$50000);СТОЛБЕЦ(B{i});4));B{i}:ДВССЫЛ(АДРЕС(СЧЁТЗ(B$1:B$50000);СТОЛБЕЦ(B{i});4)))'\n",
    "    worksheet.update_acell(f'C{i}', formula)  # Используем update_acell для добавления формулы в ячейку C\n",
    "    time.sleep(1)  # Пауза в 1 секунду между запросами\n",
    "\n",
    "print(\"Формулы успешно обновлены!\")"
   ]
  }
 ],
 "metadata": {
  "language_info": {
   "name": "python"
  }
 },
 "nbformat": 4,
 "nbformat_minor": 2
}
