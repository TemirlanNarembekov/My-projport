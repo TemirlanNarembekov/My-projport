{
 "cells": [
  {
   "cell_type": "code",
   "execution_count": null,
   "id": "322a6e87-e2c4-42ea-9dd5-05991dd09190",
   "metadata": {},
   "outputs": [],
   "source": [
    "import numpy as np\n",
    "from scipy.optimize import minimize\n",
    "\n",
    "# Целевая функция для минимизации\n",
    "def objective_function(x):\n",
    "    alpha, beta, gamma, delta = x\n",
    "    return alpha * 2.85 + beta * 2.73 + gamma * 1.87 + delta * 2.62\n",
    "\n",
    "# Ограничения\n",
    "def constraint_sum(x):\n",
    "    return np.sum(x) - 1.0\n",
    "\n",
    "def constraint_delta_alpha(x):\n",
    "    return x[3] - x[0] - 1e-6  # delta - alpha > 0\n",
    "\n",
    "def constraint_delta_beta(x):\n",
    "    return x[3] - x[1] - 1e-6  # delta - beta > 0\n",
    "\n",
    "def constraint_delta_gamma(x):\n",
    "    return x[3] - x[2] - 1e-6  # delta - gamma > 0\n",
    "\n",
    "# Начальное приближение с малыми положительными значениями\n",
    "\n",
    "x3 = np.array([0.2, 0.2, 0.2, 0.4])\n",
    "# Ограничения\n",
    "constraints = [\n",
    "    {'type': 'eq', 'fun': constraint_sum},\n",
    "    {'type': 'ineq', 'fun': constraint_delta_alpha},\n",
    "    {'type': 'ineq', 'fun': constraint_delta_beta},\n",
    "    {'type': 'ineq', 'fun': constraint_delta_gamma}\n",
    "]\n",
    "\n",
    "# Ограничения для коэффициентов (убираем возможность нулевых значений)\n",
    "bounds = [(1e-6, 1), (1e-6, 1), (1e-6, 1), (1e-6, 1)]\n",
    "\n",
    "# Оптимизация\n",
    "result = minimize(objective_function, x3, method='SLSQP', bounds=bounds, constraints=constraints)\n",
    "\n",
    "\n",
    "# Сортировка коэффициентов по убыванию\n",
    "\n",
    "\n",
    "# Вывод результатов\n",
    "# Вывод результатов\n",
    "print(f\"Оптимальные значения весовых коэффициентов:\")\n",
    "print(f\"alpha = {result.x[0]}\")\n",
    "print(f\"beta = {result.x[1]}\")\n",
    "print(f\"gamma = {result.x[2]}\")\n",
    "print(f\"delta = {result.x[3]}\")\n",
    "print(f\"Минимальная сумма = {result.fun}\")\n",
    "print(result.x[1] > result.x[0] )\n",
    "\n"
   ]
  }
 ],
 "metadata": {
  "kernelspec": {
   "display_name": "Python 3 (ipykernel)",
   "language": "python",
   "name": "python3"
  },
  "language_info": {
   "codemirror_mode": {
    "name": "ipython",
    "version": 3
   },
   "file_extension": ".py",
   "mimetype": "text/x-python",
   "name": "python",
   "nbconvert_exporter": "python",
   "pygments_lexer": "ipython3",
   "version": "3.12.2"
  }
 },
 "nbformat": 4,
 "nbformat_minor": 5
}
